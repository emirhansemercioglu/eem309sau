{
 "cells": [
  {
   "cell_type": "code",
   "execution_count": 90,
   "metadata": {},
   "outputs": [],
   "source": [
    "import math as m"
   ]
  },
  {
   "cell_type": "code",
   "execution_count": 91,
   "metadata": {},
   "outputs": [],
   "source": [
    "# DEĞİŞKENLER\n",
    "S2N = 16\n",
    "V1N = 220\n",
    "V2N = 24\n",
    "BM = 1.2\n",
    "F = 50\n",
    "REG = 0.02\n",
    "J = 3e6\n",
    "VER = 0.9\n",
    "KF = 1.11\n",
    "KU = 0.3\n",
    "KS = 0.95"
   ]
  },
  {
   "cell_type": "code",
   "execution_count": 92,
   "metadata": {},
   "outputs": [],
   "source": [
    "# 1) ALANLAR ÇARPIMININ BULUNMASI\n",
    "S1N = S2N / VER\n",
    "ST = S1N + S2N\n",
    "AP = ST / (4 * KF * KU * BM * F * J)\n"
   ]
  },
  {
   "cell_type": "code",
   "execution_count": 93,
   "metadata": {},
   "outputs": [],
   "source": [
    "# EI\n",
    "a = 126\n",
    "b = 84\n",
    "c = 63e-3\n",
    "d = 42e-3\n",
    "e = 84\n",
    "f = 21\n",
    "AW = 1323e-6\n"
   ]
  },
  {
   "cell_type": "code",
   "execution_count": 94,
   "metadata": {},
   "outputs": [],
   "source": [
    "# 3) GÖBEK KESİTİ\n",
    "AC = AP / AW\n",
    "d2 = AC / d\n",
    "d2A = d2 * 1e3 / 0.5\n",
    "d2C = m.ceil(d2A)\n",
    "d2Y = d2C * 0.5\n",
    "AC = d * 1e-3 * d2Y\n"
   ]
  },
  {
   "cell_type": "code",
   "execution_count": 95,
   "metadata": {},
   "outputs": [],
   "source": [
    "# 4) SARIM SAYISI\n",
    "NT = 1 / (4 * KF * BM * AC * F)\n",
    "N1 = V1N * NT\n",
    "N2 = (1 + REG) * V2N * NT"
   ]
  },
  {
   "cell_type": "code",
   "execution_count": 96,
   "metadata": {},
   "outputs": [],
   "source": [
    "# 5) AKIM HESABI\n",
    "I1N = S1N / V1N\n",
    "I2N = S2N / V2N\n"
   ]
  },
  {
   "cell_type": "code",
   "execution_count": 97,
   "metadata": {},
   "outputs": [
    {
     "name": "stdout",
     "output_type": "stream",
     "text": [
      "D1 = 0.0001851918320904057\n",
      "D2 = 0.0005319230405352436\n"
     ]
    }
   ],
   "source": [
    "# 6) TEL ÇAPLARI\n",
    "Q1 = I1N / J\n",
    "D1 = m.sqrt(4 * Q1 / m.pi)\n",
    "print('D1 = ' + str(D1))\n",
    "D1E = float(input('Değeri giriniz: '))\n",
    "Q2 = I2N / J\n",
    "D2 = m.sqrt(4 * Q2 / m.pi)\n",
    "print('D2 = '+ str(D2))\n",
    "D2E = float(input('Değeri giriniz: '))\n"
   ]
  },
  {
   "cell_type": "code",
   "execution_count": 98,
   "metadata": {},
   "outputs": [],
   "source": [
    "# 7) BOBİN SARGI\n",
    "CMI = c - 5e-3\n",
    "YPIS = m.floor(CMI / D1E)\n",
    "PKS = m.ceil(N1 / YPIS)\n",
    "HP = PKS * D1E + (PKS - 1) * 0.25e-3\n",
    "YSIS = m.floor(CMI / D2E)\n",
    "SKS = m.ceil(N2 / YSIS)\n",
    "HS = SKS * D2E + (SKS - 1) * 0.25e-3\n",
    "HT = 1e-3 + HP + 0.4e-3 + HS + 0.4e-3 + 2e-3\n"
   ]
  },
  {
   "cell_type": "code",
   "execution_count": 99,
   "metadata": {},
   "outputs": [
    {
     "name": "stdout",
     "output_type": "stream",
     "text": [
      "S1N = 17.77777777777778\n",
      "ST = 33.77777777777778\n",
      "AP = 1.4088162236310384e-07m^4\n",
      "AC = 0.00012600000000000003\n",
      "D2 = 0.0005319230405352436\n",
      "D2Y = 3.0\n",
      "NT = 29.791696458363116\n",
      "N1 = 6554.173220839885\n",
      "N2 = 729.3007293007291\n",
      "I1N = 0.08080808080808081\n",
      "I2N = 0.6666666666666666\n",
      "Q1 = 2.693602693602694e-08\n",
      "D1 = 0.0001851918320904057\n",
      "Q2 = 2.2222222222222222e-07\n",
      "D2 = 0.0005319230405352436\n",
      "CMI = 0.058\n",
      "YPIS = 284\n",
      "PKS = 24\n",
      "HP = 0.010646\n",
      "YSIS = 106\n",
      "SKS = 7\n",
      "HS = 0.005308\n",
      "HT = 0.019754\n"
     ]
    }
   ],
   "source": [
    "# S1N ST AP AC D2 D2Y NT N1 N2 I1N I2N Q1 D1 Q2 D2 CMI YPIS PKS HP YSIS SKS HS HT\n",
    "print('S1N = ' + str(S1N) + 'VA')\n",
    "print('ST = ' + str(ST) + 'VA')\n",
    "print('AP = ' + str(AP) + 'm^4')\n",
    "print('AC = ' + str(AC) + 'm^2')\n",
    "print('d2 = ' + str(d2) + 'm')\n",
    "print('d2Y = ' + str(d2Y) + 'mm')\n",
    "print('NT = ' + str(NT) + 'Sarım/V')\n",
    "print('N1 = ' + str(N1) + 'Sarım')\n",
    "print('N2 = ' + str(N2) + 'Sarım')\n",
    "print('I1N = ' + str(I1N) + 'A')\n",
    "print('I2N = ' + str(I2N) + 'A')\n",
    "print('Q1 = ' + str(Q1) + 'm^2')\n",
    "print('D1 = ' + str(D1) + 'm')\n",
    "print('Q2 = ' + str(Q2) + 'm^2')\n",
    "print('D2 = ' + str(D2) + 'm')\n",
    "print('CMI = ' + str(CMI) + 'm')\n",
    "print('YPIS = ' + str(YPIS))\n",
    "print('PKS = ' + str(PKS))\n",
    "print('HP = ' + str(HP) + 'm')\n",
    "print('YSIS = ' + str(YSIS))\n",
    "print('SKS = ' + str(SKS))\n",
    "print('HS = ' + str(HS) + 'm')\n",
    "print('HT = ' + str(HT) + 'm')\n"
   ]
  },
  {
   "cell_type": "code",
   "execution_count": null,
   "metadata": {},
   "outputs": [],
   "source": []
  }
 ],
 "metadata": {
  "interpreter": {
   "hash": "228a9ff09dfc9e84a2569b9325e0bfe96adcf735a746f827314f88cebc077d76"
  },
  "kernelspec": {
   "display_name": "Python 3.8.5 32-bit",
   "language": "python",
   "name": "python3"
  },
  "language_info": {
   "codemirror_mode": {
    "name": "ipython",
    "version": 3
   },
   "file_extension": ".py",
   "mimetype": "text/x-python",
   "name": "python",
   "nbconvert_exporter": "python",
   "pygments_lexer": "ipython3",
   "version": "3.8.5"
  },
  "orig_nbformat": 4
 },
 "nbformat": 4,
 "nbformat_minor": 2
}
